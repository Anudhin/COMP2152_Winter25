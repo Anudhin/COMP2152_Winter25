{
 "cells": [
  {
   "cell_type": "code",
   "execution_count": null,
   "id": "565d0c36-d7a9-4265-85a3-46e76f535cd9",
   "metadata": {},
   "outputs": [
    {
     "name": "stdout",
     "output_type": "stream",
     "text": [
      "Yoga and Running minutes for all friends:\n",
      "[30, 45]\n",
      "[25, 50]\n",
      "[40, 35]\n",
      "\n",
      "Weightlifting minutes for the last two friends:\n",
      "[30]\n",
      "[25]\n"
     ]
    }
   ],
   "source": [
    "\"\"\"\n",
    "Author: Anudhin Thomas\n",
    "Assignment: #1\n",
    "\"\"\"\n",
    "\n",
    "\n",
    "gym_member = \"Monkey D. Luffy\" #str\n",
    "preferred_weight_kg = 20.5 #float\n",
    "highest_reps = 25  #int\n",
    "membership_active = True  #bool \n",
    "\n",
    "workout_stats = {\n",
    "    \"Zoro\": (30, 45, 20), \n",
    "    \"Sanji\": (25, 50, 30),\n",
    "    \"Nami\": (40, 35, 25)\n",
    "}\n",
    "\n",
    "total_minutes_dict = {}\n",
    "for friend, minutes in workout_stats.items():\n",
    "    total_minutes_dict[f\"{friend}_Total\"] = sum(minutes)\n",
    "\n",
    "workout_stats.update(total_minutes_dict)\n",
    "\n",
    "workout_list = [list(minutes) for friend, minutes in workout_stats.items() if isinstance(minutes, tuple)]\n",
    "\n",
    "print(\"Yoga and Running minutes for all friends:\")\n",
    "for row in workout_list:\n",
    "    print(row[:2]) \n",
    "\n",
    "print(\"\\nWeightlifting minutes for the last two friends:\")\n",
    "for row in workout_list[1:]: \n",
    "    print(row[2:]) \n",
    "\n",
    "for friend, total in workout_stats.items():\n",
    "    if isinstance(total, int) and total >= 120:\n",
    "        print(f\"Great job staying active, {friend.replace('_Total', '')}!\")\n",
    "\n",
    "friend_name = input(\"Enter a friend's name to check their workout stats: \")\n",
    "if friend_name in workout_stats:\n",
    "    print(f\"{friend_name}'s workout minutes: {workout_stats[friend_name]}\")\n",
    "    print(f\"Total minutes: {workout_stats.get(friend_name + '_Total', 'N/A')}\")\n",
    "else:\n",
    "    print(f\"Friend {friend_name} not found in the records.\")\n",
    "\n",
    "total_minutes_list = {friend: total for friend, total in workout_stats.items() if isinstance(total, int)}\n",
    "highest_friend = max(total_minutes_list, key=total_minutes_list.get)\n",
    "lowest_friend = min(total_minutes_list, key=total_minutes_list.get)\n",
    "\n",
    "print(f\"\\nFriend with the highest total workout minutes: {highest_friend.replace('_Total', '')} ({total_minutes_list[highest_friend]} mins)\")\n",
    "print(f\"Friend with the lowest total workout minutes: {lowest_friend.replace('_Total', '')} ({total_minutes_list[lowest_friend]} mins)\")\n"
   ]
  },
  {
   "cell_type": "code",
   "execution_count": null,
   "id": "e8d8eafc-77fa-4710-ac4f-48a757298a67",
   "metadata": {},
   "outputs": [],
   "source": []
  }
 ],
 "metadata": {
  "kernelspec": {
   "display_name": "Python 3 (ipykernel)",
   "language": "python",
   "name": "python3"
  },
  "language_info": {
   "codemirror_mode": {
    "name": "ipython",
    "version": 3
   },
   "file_extension": ".py",
   "mimetype": "text/x-python",
   "name": "python",
   "nbconvert_exporter": "python",
   "pygments_lexer": "ipython3",
   "version": "3.9.21"
  }
 },
 "nbformat": 4,
 "nbformat_minor": 5
}
